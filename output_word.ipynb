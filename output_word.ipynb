{
 "cells": [
  {
   "cell_type": "code",
   "execution_count": 9,
   "metadata": {},
   "outputs": [
    {
     "name": "stdout",
     "output_type": "stream",
     "text": [
      "處理後的輸入序列形狀: torch.Size([1, 30, 163])\n",
      "預測的手語單字是: 分數\n"
     ]
    },
    {
     "name": "stderr",
     "output_type": "stream",
     "text": [
      "C:\\Users\\maggi\\AppData\\Local\\Temp\\ipykernel_25624\\1698737179.py:26: FutureWarning: You are using `torch.load` with `weights_only=False` (the current default value), which uses the default pickle module implicitly. It is possible to construct malicious pickle data which will execute arbitrary code during unpickling (See https://github.com/pytorch/pytorch/blob/main/SECURITY.md#untrusted-models for more details). In a future release, the default value for `weights_only` will be flipped to `True`. This limits the functions that could be executed during unpickling. Arbitrary objects will no longer be allowed to be loaded via this mode unless they are explicitly allowlisted by the user via `torch.serialization.add_safe_globals`. We recommend you start setting `weights_only=True` for any use case where you don't have full control of the loaded file. Please open an issue on GitHub for any issues related to this experimental feature.\n",
      "  model.load_state_dict(torch.load('sign_language_lstm_model.pth', map_location=device))\n"
     ]
    }
   ],
   "source": [
    "import numpy as np\n",
    "import torch\n",
    "import torch.nn as nn\n",
    "\n",
    "\n",
    "class LSTMModel(nn.Module):\n",
    "    def __init__(self, input_size, hidden_size, num_layers, num_classes):\n",
    "        super(LSTMModel, self).__init__()\n",
    "        self.lstm = nn.LSTM(input_size, hidden_size, num_layers, batch_first=True)\n",
    "        self.fc = nn.Linear(hidden_size, num_classes)\n",
    "\n",
    "    def forward(self, x):\n",
    "        h_0 = torch.zeros(num_layers, x.size(0), hidden_size).to(x.device)\n",
    "        c_0 = torch.zeros(num_layers, x.size(0), hidden_size).to(x.device)\n",
    "        out, _ = self.lstm(x, (h_0, c_0))\n",
    "        out = self.fc(out[:, -1, :])  \n",
    "        return out\n",
    "\n",
    "\n",
    "device = 'cuda' if torch.cuda.is_available() else 'cpu'\n",
    "input_size = 163  \n",
    "hidden_size = 128\n",
    "num_layers = 2\n",
    "num_classes = 3  # 單字種類數量\n",
    "model = LSTMModel(input_size, hidden_size, num_layers, num_classes).to(device)\n",
    "model.load_state_dict(torch.load('sign_language_lstm_model.pth', map_location=device))\n",
    "model.eval()  \n",
    "def pad_keypoints(keypoints, sequence_length):\n",
    "    \"\"\"\n",
    "    當影片的幀數不足 sequence_length 時，填充數據。\n",
    "    如果數據為空，則用全零矩陣填充。\n",
    "    \"\"\"\n",
    "    if keypoints.shape[0] == 0:\n",
    "        print(\"影片數據為空，使用全零矩陣填充。\")\n",
    "        return np.zeros((sequence_length, input_size)) \n",
    "\n",
    "    if keypoints.shape[0] < sequence_length:\n",
    "        padding = sequence_length - keypoints.shape[0]\n",
    "        last_frame = keypoints[-1] \n",
    "        padded_frames = np.tile(last_frame, (padding, 1))  \n",
    "        keypoints = np.vstack([keypoints, padded_frames])  # 拼接填充數據\n",
    "\n",
    "    return keypoints\n",
    "\n",
    "\n",
    "# 處理影片數據\n",
    "def process_video(video_path):\n",
    "    \"\"\"\n",
    "    加載影片的關節數據，假設為文本文件。\n",
    "    每行表示一幀的關節數據，返回形狀為 (幀數, 特徵數) 的 NumPy 數組。\n",
    "    \"\"\"\n",
    "    try:\n",
    "        keypoints = np.loadtxt(video_path)  # 加載文本數據\n",
    "        if keypoints.ndim == 1:  # 如果只有一行數據，調整為 (1, 特徵數)\n",
    "            keypoints = keypoints.reshape(1, -1)\n",
    "    except Exception as e:\n",
    "        print(f\"無法加載影片數據: {e}\")\n",
    "        keypoints = np.empty((0, input_size))  # 返回空數據作為占位\n",
    "    return keypoints\n",
    "\n",
    "\n",
    "\n",
    "class_mapping = {0: \"下雨\", 1: \"分數\", 2: \"工作小組\"}\n",
    "\n",
    "\n",
    "video_path = './video3.txt'\n",
    "keypoints = process_video(video_path)\n",
    "\n",
    "# 檢查影片數據長度\n",
    "sequence_length = 30\n",
    "keypoints = pad_keypoints(keypoints, sequence_length)  # 填充不足的幀數\n",
    "\n",
    "input_sequence = keypoints[:sequence_length]\n",
    "input_tensor = torch.tensor(input_sequence, dtype=torch.float32).unsqueeze(0).to('cuda' if torch.cuda.is_available() else 'cpu')\n",
    "\n",
    "print(f\"處理後的輸入序列形狀: {input_tensor.shape}\")\n",
    "\n",
    "with torch.no_grad():\n",
    "    output = model(input_tensor) \n",
    "    predicted_class = torch.argmax(output, dim=1).item() \n",
    "\n",
    "predicted_word = class_mapping[predicted_class]\n",
    "print(f\"預測的手語單字是: {predicted_word}\")\n",
    "\n",
    "\n"
   ]
  }
 ],
 "metadata": {
  "kernelspec": {
   "display_name": "Python 3",
   "language": "python",
   "name": "python3"
  },
  "language_info": {
   "codemirror_mode": {
    "name": "ipython",
    "version": 3
   },
   "file_extension": ".py",
   "mimetype": "text/x-python",
   "name": "python",
   "nbconvert_exporter": "python",
   "pygments_lexer": "ipython3",
   "version": "3.12.2"
  }
 },
 "nbformat": 4,
 "nbformat_minor": 2
}
